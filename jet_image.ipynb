{
 "cells": [
  {
   "cell_type": "code",
   "execution_count": 1,
   "metadata": {},
   "outputs": [
    {
     "name": "stdout",
     "output_type": "stream",
     "text": [
      "Welcome to JupyROOT 6.12/07\n"
     ]
    }
   ],
   "source": [
    "import ROOT\n",
    "import sys\n",
    "import math\n",
    "from DataFormats.FWLite import Events, Handle\n",
    "from __future__ import division\n",
    "import matplotlib.pyplot as plt\n",
    "import seaborn as sns\n",
    "import numpy as np"
   ]
  },
  {
   "cell_type": "code",
   "execution_count": 2,
   "metadata": {},
   "outputs": [],
   "source": [
    "#ROOT C++ library\n",
    "ROOT.gSystem.Load(\"libFWCoreFWLite.so\");\n",
    "ROOT.gSystem.Load(\"libDataFormatsFWLite.so\");\n",
    "ROOT.FWLiteEnabler.enable()"
   ]
  },
  {
   "cell_type": "code",
   "execution_count": 3,
   "metadata": {},
   "outputs": [],
   "source": [
    "#global parameters\n",
    "m0=0.5\n",
    "E0=1\n",
    "NH=50"
   ]
  },
  {
   "cell_type": "code",
   "execution_count": 4,
   "metadata": {},
   "outputs": [],
   "source": [
    "def rescale(cons,mj):\n",
    "    scfactors=m0/mj\n",
    "    rs_cons=ROOT.TLorentzVector()\n",
    "    rs_cons.SetPxPyPzE(cons.px()*scfactors,cons.py()*scfactors,cons.pz()*scfactors,cons.energy()*scfactors)\n",
    "    return rs_cons"
   ]
  },
  {
   "cell_type": "code",
   "execution_count": 5,
   "metadata": {},
   "outputs": [],
   "source": [
    "def Gamma(PJ): #rescaled\n",
    "    P0=math.sqrt(E0*E0-m0*m0)\n",
    "    return (PJ.E()*E0-PJ.P()*P0)/(PJ.M()*m0) #or m0*m0 ?"
   ]
  },
  {
   "cell_type": "code",
   "execution_count": 6,
   "metadata": {},
   "outputs": [],
   "source": [
    "def boostVec(tj,gamma):\n",
    "    tmp = tj.P()/math.sqrt(1-(1/(gamma*gamma)))\n",
    "    bv = ROOT.TVector3()\n",
    "    bv.SetXYZ(tj.Px()/tmp,tj.Py()/tmp,tj.Pz()/tmp)\n",
    "    return bv"
   ]
  },
  {
   "cell_type": "code",
   "execution_count": 7,
   "metadata": {},
   "outputs": [],
   "source": [
    "#Gram-Schmidt\n",
    "def newbasis(l,j):\n",
    "    e1=j.Vect().Unit()\n",
    "    c2=l[0][1].Vect().Dot(e1)\n",
    "    v2=ROOT.TVector3()\n",
    "    v2.SetXYZ(l[0][1].Vect().Px()-c2*e1.Px(),l[0][1].Vect().Py()-c2*e1.Py(),l[0][1].Vect().Pz()-c2*e1.Pz())\n",
    "    e2=v2.Unit()\n",
    "    c3_1=l[1][1].Vect().Dot(e1)\n",
    "    c3_2=l[1][1].Vect().Dot(e2)\n",
    "    v3=ROOT.TVector3()\n",
    "    v3.SetXYZ(l[1][1].Vect().Px()-c3_1*e1.Px()-c3_2*e2.Px(),l[1][1].Vect().Py()-c3_1*e1.Py()-c3_2*e2.Py(),l[1][1].Vect().Pz()-c3_1*e1.Pz()-c3_2*e2.Pz())\n",
    "    e3=v3.Unit()\n",
    "    return((e2,e3,e1))"
   ]
  },
  {
   "cell_type": "code",
   "execution_count": 8,
   "metadata": {},
   "outputs": [],
   "source": [
    "def isAncestor(a,p) :\n",
    "        if a == p :\n",
    "                return True\n",
    "        for i in xrange(0,p.numberOfMothers()) :\n",
    "                if isAncestor(a,p.mother(i)) :\n",
    "                         return True\n",
    "        return False"
   ]
  },
  {
   "cell_type": "code",
   "execution_count": 44,
   "metadata": {},
   "outputs": [],
   "source": [
    "events = Events(\"root://cmsxrootd.fnal.gov//store/mc/RunIIFall17MiniAODv2/TTJets_HT-1200to2500_TuneCP5_13TeV-madgraphMLM-pythia8/MINIAODSIM/PU2017_12Apr2018_94X_mc2017_realistic_v14-v1/100000/B43DB7F4-EF96-E811-8E08-0CC47A4C8E66.root\")"
   ]
  },
  {
   "cell_type": "code",
   "execution_count": 9,
   "metadata": {},
   "outputs": [],
   "source": [
    "data=[]\n",
    "file = open('signal_miniaod.txt', 'r') \n",
    "#file = open('ttbar_semi.txt', 'r') \n",
    "dtct=0\n",
    "for line in file: \n",
    "    data.append(line.replace('\\n', '')) \n",
    "    dtct+=1\n",
    "    if dtct==10:\n",
    "        break\n",
    "events = Events (data)"
   ]
  },
  {
   "cell_type": "code",
   "execution_count": 10,
   "metadata": {},
   "outputs": [],
   "source": [
    "fatjets, fatjetLabel = Handle(\"std::vector<pat::Jet>\"), \"slimmedJetsAK8\"\n",
    "handlePruned  = Handle (\"std::vector<reco::GenParticle>\")\n",
    "labelPruned = (\"prunedGenParticles\")\n",
    "handlePacked  = Handle (\"std::vector<pat::PackedGenParticle>\")\n",
    "labelPacked = (\"packedGenParticles\")"
   ]
  },
  {
   "cell_type": "code",
   "execution_count": 49,
   "metadata": {},
   "outputs": [],
   "source": [
    "Fij=np.zeros((NH, NH))\n",
    "mask=np.zeros((NH, NH))"
   ]
  },
  {
   "cell_type": "code",
   "execution_count": 50,
   "metadata": {
    "scrolled": false
   },
   "outputs": [
    {
     "name": "stderr",
     "output_type": "stream",
     "text": [
      "Warning in <TLorentzVector::Compare>: this method must be overridden!\n",
      "Warning in <TLorentzVector::Compare>: this method must be overridden!\n",
      "Warning in <TLorentzVector::Compare>: this method must be overridden!\n",
      "Warning in <TLorentzVector::Compare>: this method must be overridden!\n",
      "Warning in <TLorentzVector::Compare>: this method must be overridden!\n",
      "Warning in <TLorentzVector::Compare>: this method must be overridden!\n",
      "Warning in <TLorentzVector::Compare>: this method must be overridden!\n"
     ]
    }
   ],
   "source": [
    "for iev,event in enumerate(events):\n",
    "    event.getByLabel(fatjetLabel, fatjets)\n",
    "    event.getByLabel (labelPruned, handlePruned)\n",
    "    event.getByLabel (labelPacked, handlePacked)\n",
    "    #print \"size \",len(fatjets.product())\n",
    "    top=ROOT.TLorentzVector()\n",
    "    #for p in handlePruned.product() :\n",
    "    #    if abs(p.pdgId())==6:\n",
    "    #        top.SetPxPyPzE(p.px(), p.py(), p.pz(), p.energy())\n",
    "            #print p.pt()\n",
    "            #for pa in handlePacked.product():\n",
    "            #    mother = pa.mother(0)\n",
    "                #if mother and isAncestor(p,mother) :\n",
    "                #    if pa.pdgId()>5:\n",
    "                #        top.SetPxPyPzE(p.px(), p.py(), p.pz(), p.energy())\n",
    "    jetcount=0\n",
    "    tjet=0\n",
    "    tjet_Tlz=0\n",
    "    drjet=0\n",
    "    jPt=0\n",
    "    for i,j in enumerate(fatjets.product()):\n",
    "        if j.pt()<400:\n",
    "            continue\n",
    "        jetcount+=1\n",
    "        jet=ROOT.TLorentzVector()\n",
    "        jet.SetPxPyPzE(j.px(), j.py(), j.pz(), j.energy())\n",
    "        #if jet.DeltaR(top)>drjet:\n",
    "        if jet.Pt()>jPt:\n",
    "            #drjet=jet.DeltaR(top)\n",
    "            jPt=jet.Pt()\n",
    "            tjet=j\n",
    "            tjet_Tlz=jet\n",
    "        #print jet.DeltaR(top),j.pt()\n",
    "    if tjet==0:\n",
    "        continue\n",
    "    #print jetcount\n",
    "    #print tjet.numberOfDaughters()\n",
    "    \n",
    "    r_J=rescale(tjet,tjet.mass())\n",
    "    gm =Gamma(r_J)\n",
    "    bv = boostVec(tjet_Tlz,gm)\n",
    "    #print r_J.E(),r_J.M()\n",
    "    if r_J.E()>E0:\n",
    "        r_J.Boost(-bv)\n",
    "    else:\n",
    "        r_J.Boost(bv)\n",
    "    #print \"boosted \",r_J.E(),r_J.M()\n",
    "    cons_list=[]\n",
    "    for i in range(0,tjet.numberOfDaughters()):\n",
    "        pd=tjet.daughter(i)\n",
    "        dt=ROOT.TLorentzVector()\n",
    "        dt.SetPxPyPzE(pd.px(), pd.py(), pd.pz(), pd.energy())\n",
    "        cons_list.append((pd.energy(),dt))\n",
    "    cons_list.sort(reverse=True)\n",
    "    nb=newbasis(cons_list,r_J)\n",
    "    r_conslist=[]\n",
    "    for x in cons_list:\n",
    "        old_v=(x[1].Px(),x[1].Py(),x[1].Pz())\n",
    "        tmp = np.linalg.inv(np.array([nb[0], nb[1], nb[2]])).dot(old_v)\n",
    "        r_c=ROOT.TLorentzVector()\n",
    "        r_c.SetPxPyPzE(tmp[0], tmp[1], tmp[2], x[0])\n",
    "        r_conslist.append(r_c)\n",
    "    #print r_conslist\n",
    "    #Fij=np.zeros((NH, NH))\n",
    "    #mask=np.zeros((NH, NH))\n",
    "    for ik,k in enumerate(r_conslist):\n",
    "        xi=int(math.floor(0.5*(NH+1)+0.5*(NH-1)*nb[0].Dot(k.Vect().Unit())))\n",
    "        yi=int(math.floor(0.5*(NH+1)+0.5*(NH-1)*nb[1].Dot(k.Vect().Unit())))\n",
    "        #print xi,yi\n",
    "        Fij[xi][yi]+=k.E()/E0\n",
    "    #plt.imshow(Fij, cmap='hot', interpolation='nearest')\n",
    "    #ax = sns.heatmap(Fij, mask=mask, linewidth=0.5)\n",
    "    if iev>10000:\n",
    "        break"
   ]
  },
  {
   "cell_type": "code",
   "execution_count": 51,
   "metadata": {},
   "outputs": [],
   "source": [
    "rows = Fij.shape[0]\n",
    "cols = Fij.shape[1]\n",
    "for i in range(rows):\n",
    "    for j in range(cols):\n",
    "        if Fij[i][j]>0:\n",
    "            mask[i][j]=False\n",
    "        else:\n",
    "            mask[i][j]=True"
   ]
  },
  {
   "cell_type": "code",
   "execution_count": 52,
   "metadata": {
    "scrolled": true
   },
   "outputs": [
    {
     "data": {
      "image/png": "[encoded data removed]",
      "text/plain": [
       "<matplotlib.figure.Figure at 0x7f5a94597390>"
      ]
     },
     "metadata": {},
     "output_type": "display_data"
    }
   ],
   "source": [
    "ax = sns.heatmap(Fij, mask=mask, linewidth=0.5,cmap=\"YlGnBu\")\n",
    "plt.show()"
   ]
  },
  {
   "cell_type": "code",
   "execution_count": null,
   "metadata": {},
   "outputs": [],
   "source": []
  }
 ],
 "metadata": {
  "kernelspec": {
   "display_name": "Python 2",
   "language": "python",
   "name": "python2"
  },
  "language_info": {
   "codemirror_mode": {
    "name": "ipython",
    "version": 2
   },
   "file_extension": ".py",
   "mimetype": "text/x-python",
   "name": "python",
   "nbconvert_exporter": "python",
   "pygments_lexer": "ipython2",
   "version": "2.7.14+"
  }
 },
 "nbformat": 4,
 "nbformat_minor": 2
}
