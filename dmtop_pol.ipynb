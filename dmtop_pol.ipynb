{
 "cells": [
  {
   "cell_type": "code",
   "execution_count": 18,
   "metadata": {},
   "outputs": [],
   "source": [
    "import ROOT\n",
    "import sys\n",
    "import math\n",
    "from __future__ import division\n",
    "import matplotlib.pyplot as plt\n",
    "import seaborn as sns\n",
    "import numpy as np"
   ]
  },
  {
   "cell_type": "code",
   "execution_count": 51,
   "metadata": {},
   "outputs": [],
   "source": [
    "fin = ROOT.TFile.Open(\"tbnj_1000_01_01_2017/01/00/tree.root\")"
   ]
  },
  {
   "cell_type": "code",
   "execution_count": 52,
   "metadata": {},
   "outputs": [],
   "source": [
    "trees = fin.Get(\"Events\")"
   ]
  },
  {
   "cell_type": "code",
   "execution_count": 36,
   "metadata": {},
   "outputs": [],
   "source": [
    "e_frac=[]\n",
    "angle=[]\n",
    "weight=[]"
   ]
  },
  {
   "cell_type": "code",
   "execution_count": 37,
   "metadata": {
    "scrolled": false
   },
   "outputs": [],
   "source": [
    "evn=0\n",
    "for it,t in enumerate(trees):\n",
    "    genb = ROOT.TLorentzVector()\n",
    "    wq1 = ROOT.TLorentzVector()\n",
    "    wq2  =ROOT.TLorentzVector()\n",
    "    for iy, y in enumerate(t.LHEPart_pdgId):\n",
    "        #if iy==4:\n",
    "        if iy==2:\n",
    "            genb.SetPtEtaPhiM(t.LHEPart_pt[iy],t.LHEPart_eta[iy],t.LHEPart_phi[iy],t.LHEPart_mass[iy])\n",
    "        #if iy==7:\n",
    "        if iy==3:\n",
    "            wq1.SetPtEtaPhiM(t.LHEPart_pt[iy],t.LHEPart_eta[iy],t.LHEPart_phi[iy],t.LHEPart_mass[iy])\n",
    "            if abs(y)%2!=0:\n",
    "                wd=wq1\n",
    "        #if iy==8:\n",
    "        if iy==4:\n",
    "            wq2.SetPtEtaPhiM(t.LHEPart_pt[iy],t.LHEPart_eta[iy],t.LHEPart_phi[iy],t.LHEPart_mass[iy])\n",
    "            if abs(y)%2!=0:\n",
    "                wd=wq2\n",
    "        #print y,t.LHEPart_spin[iy],t.LHEPart_pt[iy]\n",
    "    gentop = genb + wq1 + wq2\n",
    "    if gentop.Pt()<300:\n",
    "        continue\n",
    "    e_frac.append(genb.E()/gentop.E())\n",
    "    bst = gentop.BoostVector()\n",
    "    wd.Boost(-bst)\n",
    "    d_v3=wd.Vect()\n",
    "    t_v3=gentop.Vect()\n",
    "    angle.append(d_v3.Dot(t_v3)/(d_v3.Mag()*t_v3.Mag()))\n",
    "    weight.append(gentop.Pt())\n",
    "    #break\n",
    "    #print \"new event\",t.event\n",
    "    evn+=1\n",
    "    if evn>21833:\n",
    "    #if it>10:\n",
    "        break"
   ]
  },
  {
   "cell_type": "code",
   "execution_count": 38,
   "metadata": {},
   "outputs": [
    {
     "data": {
      "image/png": "[encoded data removed]",
      "text/plain": [
       "<matplotlib.figure.Figure at 0x7f40dd254190>"
      ]
     },
     "metadata": {},
     "output_type": "display_data"
    }
   ],
   "source": [
    "plt.hist2d(e_frac,angle,weights=weight,bins=30)\n",
    "plt.xlabel('angle')  \n",
    "plt.ylabel('energy fraction')  \n",
    "plt.title(\"gen particles unpolarized weighted\") \n",
    "plt.show()"
   ]
  },
  {
   "cell_type": "code",
   "execution_count": null,
   "metadata": {
    "scrolled": false
   },
   "outputs": [],
   "source": [
    "trees.Print()"
   ]
  },
  {
   "cell_type": "code",
   "execution_count": 9,
   "metadata": {
    "scrolled": false
   },
   "outputs": [],
   "source": [
    "from scipy.stats import spearmanr\n",
    "from scipy.stats import pearsonr"
   ]
  },
  {
   "cell_type": "code",
   "execution_count": 47,
   "metadata": {},
   "outputs": [],
   "source": [
    "corr, _ = spearmanr(e_frac, angle)"
   ]
  },
  {
   "cell_type": "code",
   "execution_count": 48,
   "metadata": {},
   "outputs": [
    {
     "name": "stdout",
     "output_type": "stream",
     "text": [
      "Spearmans correlation: -0.396\n"
     ]
    }
   ],
   "source": [
    "print('Spearmans correlation: %.3f' % corr)"
   ]
  },
  {
   "cell_type": "code",
   "execution_count": 49,
   "metadata": {},
   "outputs": [
    {
     "name": "stdout",
     "output_type": "stream",
     "text": [
      "Pearsons correlation: -0.397\n"
     ]
    }
   ],
   "source": [
    "corr, _ = pearsonr(e_frac, angle)\n",
    "print('Pearsons correlation: %.3f' % corr)"
   ]
  },
  {
   "cell_type": "code",
   "execution_count": 82,
   "metadata": {},
   "outputs": [],
   "source": [
    "A=[]\n",
    "for it,t in enumerate(trees):\n",
    "    genb = ROOT.TLorentzVector()\n",
    "    wq1 = ROOT.TLorentzVector()\n",
    "    wq2  =ROOT.TLorentzVector()\n",
    "    for iy, y in enumerate(t.LHEPart_pdgId):\n",
    "        #if iy==4:\n",
    "        if iy==2:\n",
    "            genb.SetPtEtaPhiM(t.LHEPart_pt[iy],t.LHEPart_eta[iy],t.LHEPart_phi[iy],t.LHEPart_mass[iy])\n",
    "        #if iy==7:\n",
    "        if iy==3:\n",
    "            wq1.SetPtEtaPhiM(t.LHEPart_pt[iy],t.LHEPart_eta[iy],t.LHEPart_phi[iy],t.LHEPart_mass[iy])\n",
    "            if abs(y)%2!=0:\n",
    "                wd=wq1\n",
    "        #if iy==8:\n",
    "        if iy==4:\n",
    "            wq2.SetPtEtaPhiM(t.LHEPart_pt[iy],t.LHEPart_eta[iy],t.LHEPart_phi[iy],t.LHEPart_mass[iy])\n",
    "            if abs(y)%2!=0:\n",
    "                wd=wq2\n",
    "        #print y,t.LHEPart_spin[iy],t.LHEPart_pt[iy]\n",
    "    gentop = genb + wq1 + wq2\n",
    "    if gentop.Pt()<300:\n",
    "        continue\n",
    "    pj=[gentop.Px(),gentop.Py(),gentop.Pz()]\n",
    "    p1=[genb.Px(),genb.Py(),genb.Pz()]\n",
    "    p2=[wq1.Px(),wq1.Py(),wq1.Pz()]\n",
    "    A.append([pj,p1,p2])"
   ]
  },
  {
   "cell_type": "code",
   "execution_count": 117,
   "metadata": {},
   "outputs": [],
   "source": [
    "def gs(X):\n",
    "    Q, R = np.linalg.qr(X)\n",
    "    return Q"
   ]
  },
  {
   "cell_type": "code",
   "execution_count": 95,
   "metadata": {},
   "outputs": [],
   "source": [
    "np_A=np.array(A)"
   ]
  },
  {
   "cell_type": "code",
   "execution_count": 108,
   "metadata": {},
   "outputs": [
    {
     "data": {
      "text/plain": [
       "array([[-470.30771166,   26.16290648,  628.77644278],\n",
       "       [ -72.56922872,  -22.65546495,  188.61113963],\n",
       "       [ -87.94682428,   38.34200742,   73.43260338]])"
      ]
     },
     "execution_count": 108,
     "metadata": {},
     "output_type": "execute_result"
    }
   ],
   "source": [
    "np_A[:,0]"
   ]
  },
  {
   "cell_type": "code",
   "execution_count": 107,
   "metadata": {},
   "outputs": [
    {
     "data": {
      "text/plain": [
       "820.478203266458"
      ]
     },
     "execution_count": 107,
     "metadata": {},
     "output_type": "execute_result"
    }
   ],
   "source": [
    "np.linalg.norm(np_A[1])"
   ]
  },
  {
   "cell_type": "code",
   "execution_count": 127,
   "metadata": {},
   "outputs": [
    {
     "name": "stdout",
     "output_type": "stream",
     "text": [
      "[[-0.49213465  0.53266269 -0.68853028]\n",
      " [-0.70002337 -0.71231683 -0.05071504]\n",
      " [-0.51746571  0.45702866  0.72343212]]\n"
     ]
    }
   ],
   "source": [
    "n = len(np_A)\n",
    "for i in range(0,n):\n",
    "    v1 = np_A[i,0]/np.linalg.norm(np_A[i,0])\n",
    "    v2 = np_A[i,1]/np.linalg.norm(np_A[i,1])\n",
    "    v3 = np_A[i,2]/np.linalg.norm(np_A[i,2])\n",
    "    print gs([v1,v2,v3])\n",
    "    break"
   ]
  },
  {
   "cell_type": "code",
   "execution_count": 61,
   "metadata": {},
   "outputs": [
    {
     "name": "stdout",
     "output_type": "stream",
     "text": [
      "1\n"
     ]
    },
    {
     "name": "stderr",
     "output_type": "stream",
     "text": [
      "/cvmfs/cms.cern.ch/slc7_amd64_gcc700/external/py2-ipykernel/4.8.2-gnimlf2/lib/python2.7/site-packages/ipykernel_launcher.py:2: RuntimeWarning: invalid value encountered in sqrt\n",
      "  \n"
     ]
    }
   ],
   "source": [
    "n = len(A)\n",
    "\n",
    "A[:, 0] = normalize(A[:, 0])\n",
    "\n",
    "for i in range(1, n):\n",
    "    Ai = A[:, i]\n",
    "    for j in range(0, i):\n",
    "        Aj = A[:, j]\n",
    "        t = Ai.dot(Aj)\n",
    "        Ai = Ai - t * Aj\n",
    "    A[:, i] = normalize(Ai)"
   ]
  },
  {
   "cell_type": "code",
   "execution_count": null,
   "metadata": {},
   "outputs": [],
   "source": []
  }
 ],
 "metadata": {
  "kernelspec": {
   "display_name": "Python 2",
   "language": "python",
   "name": "python2"
  },
  "language_info": {
   "codemirror_mode": {
    "name": "ipython",
    "version": 2
   },
   "file_extension": ".py",
   "mimetype": "text/x-python",
   "name": "python",
   "nbconvert_exporter": "python",
   "pygments_lexer": "ipython2",
   "version": "2.7.14+"
  }
 },
 "nbformat": 4,
 "nbformat_minor": 2
}
