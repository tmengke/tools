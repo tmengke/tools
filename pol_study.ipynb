{
 "cells": [
  {
   "cell_type": "code",
   "execution_count": 1,
   "metadata": {},
   "outputs": [
    {
     "name": "stdout",
     "output_type": "stream",
     "text": [
      "Welcome to JupyROOT 6.25/01\n"
     ]
    },
    {
     "name": "stderr",
     "output_type": "stream",
     "text": [
      "/cvmfs/sft-nightlies.cern.ch/lcg/views/dev3/Thu/x86_64-centos7-gcc10-opt/lib/ROOT/_facade.py:150: FutureWarning: pandas.util.testing is deprecated. Use the functions in the public API at pandas.testing instead.\n",
      "  return _orig_ihook(name, *args, **kwds)\n"
     ]
    }
   ],
   "source": [
    "import ROOT\n",
    "import sys\n",
    "import math\n",
    "import matplotlib.pyplot as plt\n",
    "import seaborn as sns"
   ]
  },
  {
   "cell_type": "code",
   "execution_count": 2,
   "metadata": {},
   "outputs": [
    {
     "name": "stderr",
     "output_type": "stream",
     "text": [
      "Warning in <TClass::Init>: no dictionary for class edm::Hash<1> is available\n",
      "Warning in <TClass::Init>: no dictionary for class edm::ProcessHistory is available\n",
      "Warning in <TClass::Init>: no dictionary for class edm::ProcessConfiguration is available\n",
      "Warning in <TClass::Init>: no dictionary for class edm::ParameterSetBlob is available\n",
      "Warning in <TClass::Init>: no dictionary for class pair<edm::Hash<1>,edm::ParameterSetBlob> is available\n"
     ]
    }
   ],
   "source": [
    "fin = ROOT.TFile.Open(\"TTToSemiLeptonic_TuneCP5_13TeV-powheg-pythia8/tree_25.root\")\n",
    "trees = fin.Get(\"Events\")"
   ]
  },
  {
   "cell_type": "code",
   "execution_count": 23,
   "metadata": {},
   "outputs": [],
   "source": [
    "trees = ROOT.TChain(\"Events\")\n",
    "for i in range(1,62):\n",
    "    trees.Add(\"root://cmseos.fnal.gov//store/user/aandreas/nanopost/03Sep20v7/ST_t-channel_antitop_4f_InclusiveDecays_TuneCP5_13TeV-powheg-madspin-pythia8/ST_t-channel_antitop_4f_InclusiveDecays-pow-madspin_2018/200926_071219/0000/tree_{}.root\".format(i))\n",
    "#for i in range(1,19):\n",
    "#    trees.Add(\"root://cmseos.fnal.gov//store/user/aandreas/nanopost/03Sep20v7/ST_t-channel_antitop_4f_inclusiveDecays_TuneCP5_13TeV-powhegV2-madspin-pythia8/ST_t-channel_antitop_4f_inclusiveDecays-powV2-madspin_2017/200925_180751/0000/tree_{}.root\".format(i))"
   ]
  },
  {
   "cell_type": "code",
   "execution_count": 3,
   "metadata": {},
   "outputs": [],
   "source": [
    "top_pol=[]\n",
    "top_pt=[]\n",
    "top_energy=[]\n",
    "top_mass=[]\n",
    "j1_pt=[]\n",
    "j1_eta=[]\n",
    "j1_phi=[]\n",
    "j1_energy=[]\n",
    "j2_pt=[]\n",
    "j2_eta=[]\n",
    "j2_phi=[]\n",
    "j2_energy=[]\n",
    "j3_pt=[]\n",
    "j3_eta=[]\n",
    "j3_phi=[]\n",
    "j3_energy=[]\n",
    "e_frac=[]\n",
    "angle=[]\n",
    "weight=[]"
   ]
  },
  {
   "cell_type": "code",
   "execution_count": 4,
   "metadata": {},
   "outputs": [],
   "source": [
    "import numpy as np\n",
    "import pandas as pd"
   ]
  },
  {
   "cell_type": "code",
   "execution_count": 5,
   "metadata": {
    "scrolled": false
   },
   "outputs": [
    {
     "name": "stderr",
     "output_type": "stream",
     "text": [
      "Warning in <TLorentzVector::Compare>: this method must be overridden!\n",
      "Warning in <TLorentzVector::Compare>: this method must be overridden!\n",
      "Warning in <TLorentzVector::Compare>: this method must be overridden!\n",
      "Warning in <TLorentzVector::Compare>: this method must be overridden!\n",
      "Warning in <TLorentzVector::Compare>: this method must be overridden!\n",
      "Warning in <TLorentzVector::Compare>: this method must be overridden!\n",
      "Warning in <TLorentzVector::Compare>: this method must be overridden!\n",
      "Warning in <TLorentzVector::Compare>: this method must be overridden!\n",
      "Warning in <TLorentzVector::Compare>: this method must be overridden!\n",
      "Warning in <TLorentzVector::Compare>: this method must be overridden!\n",
      "Warning in <TLorentzVector::Compare>: this method must be overridden!\n",
      "Warning in <TLorentzVector::Compare>: this method must be overridden!\n",
      "Warning in <TLorentzVector::Compare>: this method must be overridden!\n",
      "Warning in <TLorentzVector::Compare>: this method must be overridden!\n",
      "Warning in <TLorentzVector::Compare>: this method must be overridden!\n",
      "Warning in <TLorentzVector::Compare>: this method must be overridden!\n",
      "Warning in <TLorentzVector::Compare>: this method must be overridden!\n",
      "Warning in <TLorentzVector::Compare>: this method must be overridden!\n",
      "Warning in <TLorentzVector::Compare>: this method must be overridden!\n",
      "Warning in <TLorentzVector::Compare>: this method must be overridden!\n",
      "Warning in <TLorentzVector::Compare>: this method must be overridden!\n",
      "Warning in <TLorentzVector::Compare>: this method must be overridden!\n",
      "Warning in <TLorentzVector::Compare>: this method must be overridden!\n",
      "Warning in <TLorentzVector::Compare>: this method must be overridden!\n",
      "Warning in <TLorentzVector::Compare>: this method must be overridden!\n"
     ]
    }
   ],
   "source": [
    "count=0\n",
    "for it,t in enumerate(trees):\n",
    "    if t.nFatJet==0:\n",
    "        continue\n",
    "    if t.FatJet_msoftdrop[0]<105:\n",
    "        continue\n",
    "    ak8jet = ROOT.TLorentzVector()\n",
    "    ak8jet.SetPtEtaPhiM(t.FatJet_pt[0],t.FatJet_eta[0],t.FatJet_phi[0],t.FatJet_mass[0])\n",
    "    jets_tmp=[]\n",
    "    jc=0\n",
    "    for ix in range(0,t.nJet):\n",
    "        ak4jet = ROOT.TLorentzVector()\n",
    "        ak4jet.SetPtEtaPhiM(t.Jet_pt[ix],t.Jet_eta[ix],t.Jet_phi[ix],0)\n",
    "        if ak8jet.DeltaR(ak4jet)<1.0 and jc<3:\n",
    "            jets_tmp.append((t.Jet_btagDeepB[ix],ak4jet))\n",
    "            jc+=1\n",
    "    jets_tmp.sort(reverse=True)\n",
    "    if jc==3 and jets_tmp[0][0]>0.1355:\n",
    "        #re3.append(test.M())\n",
    "        top_pt.append(ak8jet.Pt())\n",
    "        top_energy.append(ak8jet.E())\n",
    "        top_mass.append(t.FatJet_msoftdrop[0])\n",
    "        j1_pt.append(jets_tmp[0][1].Pt())\n",
    "        j1_eta.append(jets_tmp[0][1].Eta())\n",
    "        j1_phi.append(jets_tmp[0][1].Phi())\n",
    "        j1_energy.append(jets_tmp[0][1].E())\n",
    "        j2_pt.append(jets_tmp[1][1].Pt())\n",
    "        j2_eta.append(jets_tmp[1][1].Eta())\n",
    "        j2_phi.append(jets_tmp[1][1].Phi())\n",
    "        j2_energy.append(jets_tmp[1][1].E())\n",
    "        j3_pt.append(jets_tmp[2][1].Pt())\n",
    "        j3_eta.append(jets_tmp[2][1].Eta())\n",
    "        j3_phi.append(jets_tmp[2][1].Phi())\n",
    "        j3_energy.append(jets_tmp[2][1].E())\n",
    "        e_frac.append(jets_tmp[0][1].E()/ak8jet.E())\n",
    "        bst = ak8jet.BoostVector()\n",
    "        if (jets_tmp[0][1]+jets_tmp[1][1]).M()<(jets_tmp[0][1]+jets_tmp[2][1]).M():\n",
    "            jets_tmp[1][1].Boost(-bst)\n",
    "            d_v3=jets_tmp[1][1].Vect()\n",
    "        else:\n",
    "            jets_tmp[2][1].Boost(-bst)\n",
    "            d_v3=jets_tmp[2][1].Vect()\n",
    "        t_v3=ak8jet.Vect()\n",
    "        angle.append(d_v3.Dot(t_v3)/(d_v3.Mag()*t_v3.Mag()))\n",
    "        top_pol.append(1)\n",
    "        count+=1\n",
    "    if count==5887:\n",
    "        break"
   ]
  },
  {
   "cell_type": "code",
   "execution_count": 6,
   "metadata": {},
   "outputs": [
    {
     "name": "stdout",
     "output_type": "stream",
     "text": [
      "5887\n"
     ]
    }
   ],
   "source": [
    "print (count)"
   ]
  },
  {
   "cell_type": "code",
   "execution_count": 7,
   "metadata": {},
   "outputs": [],
   "source": [
    "dict_var = {'top_pt':top_pt, 'top_energy':top_energy, 'top_mass':top_mass, 'j1_pt':j1_pt, 'j1_eta':j1_eta, 'j1_phi':j1_phi, \\\n",
    "        'j1_energy':j1_energy, 'j2_pt':j2_pt, 'j2_eta':j2_eta,  'j2_phi':j2_phi,'j2_energy':j2_energy, 'j3_pt':j3_pt, 'j3_eta':j3_eta, 'j3_phi':j3_phi,'j3_energy':j3_energy,\\\n",
    "        'e_frac':e_frac, 'angle':angle, 'top_pol':top_pol} "
   ]
  },
  {
   "cell_type": "code",
   "execution_count": 8,
   "metadata": {},
   "outputs": [],
   "source": [
    "df=pd.DataFrame(dict_var)"
   ]
  },
  {
   "cell_type": "code",
   "execution_count": 9,
   "metadata": {},
   "outputs": [
    {
     "data": {
      "text/plain": [
       "(5887, 18)"
      ]
     },
     "execution_count": 9,
     "metadata": {},
     "output_type": "execute_result"
    }
   ],
   "source": [
    "df.shape"
   ]
  },
  {
   "cell_type": "code",
   "execution_count": 10,
   "metadata": {},
   "outputs": [
    {
     "data": {
      "image/png": "[encoded data removed]",
      "text/plain": [
       "<Figure size 432x288 with 1 Axes>"
      ]
     },
     "metadata": {
      "needs_background": "light"
     },
     "output_type": "display_data"
    }
   ],
   "source": [
    "plt.hist2d(dict_var['e_frac'],dict_var['angle'],bins=50)\n",
    "#plt.xlim([0, 1])\n",
    "#plt.ylim([-1, 1])\n",
    "plt.title(\"e_fract as angle\")\n",
    "plt.xlabel(\"e_fract\")\n",
    "plt.ylabel(\"angle\")\n",
    "plt.show()"
   ]
  },
  {
   "cell_type": "code",
   "execution_count": 40,
   "metadata": {},
   "outputs": [],
   "source": [
    "import xgboost as xgb\n",
    "from sklearn.model_selection import train_test_split"
   ]
  },
  {
   "cell_type": "code",
   "execution_count": 66,
   "metadata": {},
   "outputs": [],
   "source": [
    "X, y = df.iloc[:,:-1], df.iloc[:,-1]\n",
    "X_train, X_test, y_train, y_test= train_test_split(X, y, test_size=0.2, random_state=123)\n",
    "xg_cl = xgb.XGBClassifier(objective='binary:logistic', n_estimators=50, seed=123)\n",
    "xg_cl.fit(X_train,y_train)\n",
    "preds = xg_cl.predict(X_test)\n",
    "accuracy = float(np.sum(preds==y_test))/y_test.shape[0]"
   ]
  },
  {
   "cell_type": "code",
   "execution_count": 67,
   "metadata": {},
   "outputs": [
    {
     "name": "stdout",
     "output_type": "stream",
     "text": [
      "accuracy: 0.701911\n"
     ]
    }
   ],
   "source": [
    "print(\"accuracy: %f\" % (accuracy))"
   ]
  },
  {
   "cell_type": "code",
   "execution_count": 68,
   "metadata": {},
   "outputs": [],
   "source": [
    "from sklearn.metrics import roc_curve"
   ]
  },
  {
   "cell_type": "code",
   "execution_count": 69,
   "metadata": {},
   "outputs": [],
   "source": [
    "pre_pro=xg_cl.predict_proba(X_test)\n",
    "pre_pro=pre_pro[:, 1]\n",
    "pl_fpr, pl_tpr, _ = roc_curve(y_test, pre_pro)"
   ]
  },
  {
   "cell_type": "code",
   "execution_count": 70,
   "metadata": {},
   "outputs": [
    {
     "data": {
      "image/png": "[encoded data removed]",
      "text/plain": [
       "<Figure size 432x288 with 1 Axes>"
      ]
     },
     "metadata": {
      "needs_background": "light"
     },
     "output_type": "display_data"
    }
   ],
   "source": [
    "plt.plot(pl_fpr, pl_tpr, marker='.', label='xgboost',alpha=0.5)\n",
    "plt.xlabel('False Positive Rate')\n",
    "plt.ylabel('True Positive Rate')\n",
    "plt.legend()\n",
    "plt.show()"
   ]
  },
  {
   "cell_type": "code",
   "execution_count": 71,
   "metadata": {},
   "outputs": [
    {
     "data": {
      "image/png": "[encoded data removed]",
      "text/plain": [
       "<Figure size 432x288 with 1 Axes>"
      ]
     },
     "metadata": {
      "needs_background": "light"
     },
     "output_type": "display_data"
    }
   ],
   "source": [
    "pre_pro=xg_cl.predict_proba(X_test)[:, 1]\n",
    "plt.hist(pre_pro[y_test==1],bins=15,alpha=0.5,label='RH')\n",
    "plt.hist(pre_pro[y_test==0],bins=15,alpha=0.5,label='LH')\n",
    "plt.xlabel('Probability')\n",
    "plt.ylabel('Number')\n",
    "plt.legend()\n",
    "plt.show()"
   ]
  },
  {
   "cell_type": "code",
   "execution_count": 179,
   "metadata": {},
   "outputs": [
    {
     "name": "stdout",
     "output_type": "stream",
     "text": [
      "730     1\n",
      "7914    0\n",
      "7303    0\n",
      "5217    1\n",
      "1953    1\n",
      "       ..\n",
      "7642    0\n",
      "8697    0\n",
      "2693    1\n",
      "1877    1\n",
      "1364    1\n",
      "Name: top_pol, Length: 2355, dtype: int64\n"
     ]
    }
   ],
   "source": [
    "print (y_test)"
   ]
  },
  {
   "cell_type": "code",
   "execution_count": 21,
   "metadata": {},
   "outputs": [
    {
     "data": {
      "text/html": [
       "<div>\n",
       "<style scoped>\n",
       "    .dataframe tbody tr th:only-of-type {\n",
       "        vertical-align: middle;\n",
       "    }\n",
       "\n",
       "    .dataframe tbody tr th {\n",
       "        vertical-align: top;\n",
       "    }\n",
       "\n",
       "    .dataframe thead th {\n",
       "        text-align: right;\n",
       "    }\n",
       "</style>\n",
       "<table border=\"1\" class=\"dataframe\">\n",
       "  <thead>\n",
       "    <tr style=\"text-align: right;\">\n",
       "      <th></th>\n",
       "      <th>top_pt</th>\n",
       "      <th>top_energy</th>\n",
       "      <th>top_mass</th>\n",
       "      <th>j1_pt</th>\n",
       "      <th>j1_eta</th>\n",
       "      <th>j1_phi</th>\n",
       "      <th>j1_energy</th>\n",
       "      <th>j2_pt</th>\n",
       "      <th>j2_eta</th>\n",
       "      <th>j2_phi</th>\n",
       "      <th>j2_energy</th>\n",
       "      <th>j3_pt</th>\n",
       "      <th>j3_eta</th>\n",
       "      <th>j3_phi</th>\n",
       "      <th>j3_energy</th>\n",
       "      <th>e_frac</th>\n",
       "      <th>angle</th>\n",
       "      <th>top_pol</th>\n",
       "    </tr>\n",
       "  </thead>\n",
       "  <tbody>\n",
       "    <tr>\n",
       "      <th>0</th>\n",
       "      <td>539.00</td>\n",
       "      <td>597.658917</td>\n",
       "      <td>196.7500</td>\n",
       "      <td>106.8125</td>\n",
       "      <td>0.441711</td>\n",
       "      <td>1.734863</td>\n",
       "      <td>117.403065</td>\n",
       "      <td>340.50000</td>\n",
       "      <td>0.154877</td>\n",
       "      <td>1.090088</td>\n",
       "      <td>344.591921</td>\n",
       "      <td>104.6875</td>\n",
       "      <td>0.581543</td>\n",
       "      <td>0.837280</td>\n",
       "      <td>122.894304</td>\n",
       "      <td>0.196438</td>\n",
       "      <td>-0.131719</td>\n",
       "      <td>0</td>\n",
       "    </tr>\n",
       "    <tr>\n",
       "      <th>1</th>\n",
       "      <td>563.50</td>\n",
       "      <td>751.761367</td>\n",
       "      <td>119.4375</td>\n",
       "      <td>211.7500</td>\n",
       "      <td>0.993286</td>\n",
       "      <td>-1.986328</td>\n",
       "      <td>325.083938</td>\n",
       "      <td>31.96875</td>\n",
       "      <td>-0.027172</td>\n",
       "      <td>-2.335938</td>\n",
       "      <td>31.980552</td>\n",
       "      <td>315.7500</td>\n",
       "      <td>0.603149</td>\n",
       "      <td>-2.185059</td>\n",
       "      <td>374.945606</td>\n",
       "      <td>0.432430</td>\n",
       "      <td>-0.874706</td>\n",
       "      <td>0</td>\n",
       "    </tr>\n",
       "    <tr>\n",
       "      <th>2</th>\n",
       "      <td>470.50</td>\n",
       "      <td>678.293254</td>\n",
       "      <td>162.6250</td>\n",
       "      <td>309.2500</td>\n",
       "      <td>0.927734</td>\n",
       "      <td>-1.627441</td>\n",
       "      <td>452.157837</td>\n",
       "      <td>54.12500</td>\n",
       "      <td>0.929199</td>\n",
       "      <td>-1.136475</td>\n",
       "      <td>79.221415</td>\n",
       "      <td>105.6875</td>\n",
       "      <td>0.467529</td>\n",
       "      <td>-1.997559</td>\n",
       "      <td>117.450219</td>\n",
       "      <td>0.666611</td>\n",
       "      <td>-0.417553</td>\n",
       "      <td>0</td>\n",
       "    </tr>\n",
       "    <tr>\n",
       "      <th>3</th>\n",
       "      <td>404.25</td>\n",
       "      <td>606.550488</td>\n",
       "      <td>183.8750</td>\n",
       "      <td>242.7500</td>\n",
       "      <td>-0.884644</td>\n",
       "      <td>0.015873</td>\n",
       "      <td>344.095964</td>\n",
       "      <td>16.93750</td>\n",
       "      <td>-0.800537</td>\n",
       "      <td>-1.140381</td>\n",
       "      <td>22.660887</td>\n",
       "      <td>168.5000</td>\n",
       "      <td>-0.812256</td>\n",
       "      <td>-0.681274</td>\n",
       "      <td>227.208798</td>\n",
       "      <td>0.567300</td>\n",
       "      <td>-0.608880</td>\n",
       "      <td>0</td>\n",
       "    </tr>\n",
       "    <tr>\n",
       "      <th>4</th>\n",
       "      <td>355.00</td>\n",
       "      <td>417.620799</td>\n",
       "      <td>156.6250</td>\n",
       "      <td>114.6250</td>\n",
       "      <td>-0.000063</td>\n",
       "      <td>-1.548340</td>\n",
       "      <td>114.625000</td>\n",
       "      <td>69.31250</td>\n",
       "      <td>-0.323547</td>\n",
       "      <td>-2.391113</td>\n",
       "      <td>72.972176</td>\n",
       "      <td>178.8750</td>\n",
       "      <td>-0.638428</td>\n",
       "      <td>-1.852539</td>\n",
       "      <td>216.583958</td>\n",
       "      <td>0.274471</td>\n",
       "      <td>-0.279413</td>\n",
       "      <td>0</td>\n",
       "    </tr>\n",
       "  </tbody>\n",
       "</table>\n",
       "</div>"
      ],
      "text/plain": [
       "   top_pt  top_energy  top_mass     j1_pt    j1_eta    j1_phi   j1_energy  \\\n",
       "0  539.00  597.658917  196.7500  106.8125  0.441711  1.734863  117.403065   \n",
       "1  563.50  751.761367  119.4375  211.7500  0.993286 -1.986328  325.083938   \n",
       "2  470.50  678.293254  162.6250  309.2500  0.927734 -1.627441  452.157837   \n",
       "3  404.25  606.550488  183.8750  242.7500 -0.884644  0.015873  344.095964   \n",
       "4  355.00  417.620799  156.6250  114.6250 -0.000063 -1.548340  114.625000   \n",
       "\n",
       "       j2_pt    j2_eta    j2_phi   j2_energy     j3_pt    j3_eta    j3_phi  \\\n",
       "0  340.50000  0.154877  1.090088  344.591921  104.6875  0.581543  0.837280   \n",
       "1   31.96875 -0.027172 -2.335938   31.980552  315.7500  0.603149 -2.185059   \n",
       "2   54.12500  0.929199 -1.136475   79.221415  105.6875  0.467529 -1.997559   \n",
       "3   16.93750 -0.800537 -1.140381   22.660887  168.5000 -0.812256 -0.681274   \n",
       "4   69.31250 -0.323547 -2.391113   72.972176  178.8750 -0.638428 -1.852539   \n",
       "\n",
       "    j3_energy    e_frac     angle  top_pol  \n",
       "0  122.894304  0.196438 -0.131719        0  \n",
       "1  374.945606  0.432430 -0.874706        0  \n",
       "2  117.450219  0.666611 -0.417553        0  \n",
       "3  227.208798  0.567300 -0.608880        0  \n",
       "4  216.583958  0.274471 -0.279413        0  "
      ]
     },
     "execution_count": 21,
     "metadata": {},
     "output_type": "execute_result"
    }
   ],
   "source": [
    "df.head()"
   ]
  },
  {
   "cell_type": "code",
   "execution_count": 22,
   "metadata": {},
   "outputs": [
    {
     "name": "stdout",
     "output_type": "stream",
     "text": [
      "<class 'pandas.core.frame.DataFrame'>\n",
      "RangeIndex: 11774 entries, 0 to 11773\n",
      "Data columns (total 18 columns):\n",
      " #   Column      Non-Null Count  Dtype  \n",
      "---  ------      --------------  -----  \n",
      " 0   top_pt      11774 non-null  float64\n",
      " 1   top_energy  11774 non-null  float64\n",
      " 2   top_mass    11774 non-null  float64\n",
      " 3   j1_pt       11774 non-null  float64\n",
      " 4   j1_eta      11774 non-null  float64\n",
      " 5   j1_phi      11774 non-null  float64\n",
      " 6   j1_energy   11774 non-null  float64\n",
      " 7   j2_pt       11774 non-null  float64\n",
      " 8   j2_eta      11774 non-null  float64\n",
      " 9   j2_phi      11774 non-null  float64\n",
      " 10  j2_energy   11774 non-null  float64\n",
      " 11  j3_pt       11774 non-null  float64\n",
      " 12  j3_eta      11774 non-null  float64\n",
      " 13  j3_phi      11774 non-null  float64\n",
      " 14  j3_energy   11774 non-null  float64\n",
      " 15  e_frac      11774 non-null  float64\n",
      " 16  angle       11774 non-null  float64\n",
      " 17  top_pol     11774 non-null  int64  \n",
      "dtypes: float64(17), int64(1)\n",
      "memory usage: 1.6 MB\n",
      "None\n"
     ]
    }
   ],
   "source": [
    "print (df.info())"
   ]
  },
  {
   "cell_type": "code",
   "execution_count": null,
   "metadata": {},
   "outputs": [],
   "source": []
  }
 ],
 "metadata": {
  "kernelspec": {
   "display_name": "Python 3",
   "language": "python",
   "name": "python3"
  },
  "language_info": {
   "codemirror_mode": {
    "name": "ipython",
    "version": 3
   },
   "file_extension": ".py",
   "mimetype": "text/x-python",
   "name": "python",
   "nbconvert_exporter": "python",
   "pygments_lexer": "ipython3",
   "version": "3.8.6"
  }
 },
 "nbformat": 4,
 "nbformat_minor": 2
}
