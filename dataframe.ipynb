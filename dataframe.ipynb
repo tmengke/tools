{
 "cells": [
  {
   "cell_type": "markdown",
   "metadata": {},
   "source": [
    "## HGCDPG analysis framework\n",
    "**setup the environment** <br>\n",
    "`source /cvmfs/sft.cern.ch/lcg/views/dev3/latest/x86_64-centos7-gcc10-opt/setup.csh` \n",
    "<br>\n",
    "**jupyter notebook** <br>\n",
    "`jupyter notebook`"
   ]
  },
  {
   "cell_type": "code",
   "execution_count": 1,
   "metadata": {},
   "outputs": [],
   "source": [
    "import awkward as ak\n",
    "import numpy as np\n",
    "import uproot"
   ]
  },
  {
   "cell_type": "code",
   "execution_count": 2,
   "metadata": {},
   "outputs": [
    {
     "name": "stdout",
     "output_type": "stream",
     "text": [
      "1.0.2\n",
      "4.0.1\n"
     ]
    }
   ],
   "source": [
    "print (ak.__version__)\n",
    "print (uproot.__version__)"
   ]
  },
  {
   "cell_type": "code",
   "execution_count": 21,
   "metadata": {},
   "outputs": [
    {
     "data": {
      "text/plain": [
       "{'hgcAnalyzer': 'TDirectory', 'hgcAnalyzer/tree': 'TTree'}"
      ]
     },
     "execution_count": 21,
     "metadata": {},
     "output_type": "execute_result"
    }
   ],
   "source": [
    "root_file = uproot.open(\"ntuple_1photon_Pt26p58_eta2p0_pu_pyth.root\")\n",
    "root_file.classnames()"
   ]
  },
  {
   "cell_type": "code",
   "execution_count": 22,
   "metadata": {},
   "outputs": [
    {
     "data": {
      "text/plain": [
       "<TTree 'tree' (101 branches) at 0x7fbd6c1e4fa0>"
      ]
     },
     "execution_count": 22,
     "metadata": {},
     "output_type": "execute_result"
    }
   ],
   "source": [
    "events = root_file[\"hgcAnalyzer/tree\"]\n",
    "events"
   ]
  },
  {
   "cell_type": "code",
   "execution_count": 23,
   "metadata": {
    "scrolled": false
   },
   "outputs": [
    {
     "name": "stdout",
     "output_type": "stream",
     "text": [
      "name                 | typename                 | interpretation                \n",
      "---------------------+--------------------------+-------------------------------\n",
      "genParticle          | vector<ROOT::Math::Lo... | AsGroup(<TBranchElement 'ge...\n",
      "genParticle/genPa... | double[]                 | AsJagged(AsDtype('>f8'))\n",
      "genParticle/genPa... | double[]                 | AsJagged(AsDtype('>f8'))\n",
      "genParticle/genPa... | double[]                 | AsJagged(AsDtype('>f8'))\n",
      "genParticle/genPa... | double[]                 | AsJagged(AsDtype('>f8'))\n",
      "genParticlePosition  | vector<ROOT::Math::Po... | AsGroup(<TBranchElement 'ge...\n",
      "genParticlePositi... | float[]                  | AsJagged(AsDtype('>f4'))\n",
      "genParticlePositi... | float[]                  | AsJagged(AsDtype('>f4'))\n",
      "genParticlePositi... | float[]                  | AsJagged(AsDtype('>f4'))\n",
      "genPdgId             | std::vector<int32_t>     | AsJagged(AsDtype('>i4'), he...\n",
      "lcEnergy             | std::vector<float>       | AsJagged(AsDtype('>f4'), he...\n",
      "lcLayer              | std::vector<uint32_t>    | AsJagged(AsDtype('>u4'), he...\n",
      "lcId                 | std::vector<int32_t>     | AsJagged(AsDtype('>i4'), he...\n",
      "lcPosition           | vector<ROOT::Math::Po... | AsGroup(<TBranchElement 'lc...\n",
      "lcPosition/lcPosi... | float[]                  | AsJagged(AsDtype('>f4'))\n",
      "lcPosition/lcPosi... | float[]                  | AsJagged(AsDtype('>f4'))\n",
      "lcPosition/lcPosi... | float[]                  | AsJagged(AsDtype('>f4'))\n",
      "lcTime               | std::vector<float>       | AsJagged(AsDtype('>f4'), he...\n",
      "lcTimeError          | std::vector<float>       | AsJagged(AsDtype('>f4'), he...\n",
      "lcHits               | std::vector<std::vect... | AsObjects(AsVector(True, As...\n",
      "lc2cpScore           | std::vector<std::vect... | AsObjects(AsVector(True, As...\n",
      "lc2cpId              | std::vector<std::vect... | AsObjects(AsVector(True, As...\n",
      "lc2cpEnergy          | std::vector<std::vect... | AsObjects(AsVector(True, As...\n",
      "rhTime               | std::vector<float>       | AsJagged(AsDtype('>f4'), he...\n",
      "rhTimeError          | std::vector<float>       | AsJagged(AsDtype('>f4'), he...\n",
      "rhEnergy             | std::vector<float>       | AsJagged(AsDtype('>f4'), he...\n",
      "rhPosition           | vector<ROOT::Math::Po... | AsGroup(<TBranchElement 'rh...\n",
      "rhPosition/rhPosi... | float[]                  | AsJagged(AsDtype('>f4'))\n",
      "rhPosition/rhPosi... | float[]                  | AsJagged(AsDtype('>f4'))\n",
      "rhPosition/rhPosi... | float[]                  | AsJagged(AsDtype('>f4'))\n",
      "rhLayer              | std::vector<uint32_t>    | AsJagged(AsDtype('>u4'), he...\n",
      "tracksterEM_vertices | std::vector<std::vect... | AsObjects(AsVector(True, As...\n",
      "tracksterEM_verte... | std::vector<std::vect... | AsObjects(AsVector(True, As...\n",
      "tracksterEM_seedI... | std::vector<int32_t>     | AsJagged(AsDtype('>i4'), he...\n",
      "tracksterEM_time     | std::vector<float>       | AsJagged(AsDtype('>f4'), he...\n",
      "tracksterEM_timeE... | std::vector<float>       | AsJagged(AsDtype('>f4'), he...\n",
      "tracksterEM_regre... | std::vector<float>       | AsJagged(AsDtype('>f4'), he...\n",
      "tracksterEM_raw_e... | std::vector<float>       | AsJagged(AsDtype('>f4'), he...\n",
      "tracksterEM_raw_e... | std::vector<float>       | AsJagged(AsDtype('>f4'), he...\n",
      "tracksterEM_raw_pt   | std::vector<float>       | AsJagged(AsDtype('>f4'), he...\n",
      "tracksterEM_raw_e... | std::vector<float>       | AsJagged(AsDtype('>f4'), he...\n",
      "tracksterEM_baryc... | vector<ROOT::Math::Di... | AsGroup(<TBranchElement 'tr...\n",
      "tracksterEM_baryc... | double[]                 | AsJagged(AsDtype('>f8'))\n",
      "tracksterEM_baryc... | double[]                 | AsJagged(AsDtype('>f8'))\n",
      "tracksterEM_baryc... | double[]                 | AsJagged(AsDtype('>f8'))\n",
      "tracksterEM_sigmas   | std::vector<std::vect... | AsObjects(AsVector(True, As...\n",
      "tracksterEM_sigma... | std::vector<std::vect... | AsObjects(AsVector(True, As...\n",
      "tracksterEM_id_pr... | std::vector<std::vect... | AsObjects(AsVector(True, As...\n",
      "tracksterHAD_vert... | std::vector<std::vect... | AsObjects(AsVector(True, As...\n",
      "tracksterHAD_vert... | std::vector<std::vect... | AsObjects(AsVector(True, As...\n",
      "tracksterHAD_seed... | std::vector<int32_t>     | AsJagged(AsDtype('>i4'), he...\n",
      "tracksterHAD_time    | std::vector<float>       | AsJagged(AsDtype('>f4'), he...\n",
      "tracksterHAD_time... | std::vector<float>       | AsJagged(AsDtype('>f4'), he...\n",
      "tracksterHAD_regr... | std::vector<float>       | AsJagged(AsDtype('>f4'), he...\n",
      "tracksterHAD_raw_... | std::vector<float>       | AsJagged(AsDtype('>f4'), he...\n",
      "tracksterHAD_raw_... | std::vector<float>       | AsJagged(AsDtype('>f4'), he...\n",
      "tracksterHAD_raw_pt  | std::vector<float>       | AsJagged(AsDtype('>f4'), he...\n",
      "tracksterHAD_raw_... | std::vector<float>       | AsJagged(AsDtype('>f4'), he...\n",
      "tracksterHAD_bary... | vector<ROOT::Math::Di... | AsGroup(<TBranchElement 'tr...\n",
      "tracksterHAD_bary... | double[]                 | AsJagged(AsDtype('>f8'))\n",
      "tracksterHAD_bary... | double[]                 | AsJagged(AsDtype('>f8'))\n",
      "tracksterHAD_bary... | double[]                 | AsJagged(AsDtype('>f8'))\n",
      "tracksterHAD_sigmas  | std::vector<std::vect... | AsObjects(AsVector(True, As...\n",
      "tracksterHAD_sigm... | std::vector<std::vect... | AsObjects(AsVector(True, As...\n",
      "tracksterHAD_id_p... | std::vector<std::vect... | AsObjects(AsVector(True, As...\n",
      "tracksterMerge_ve... | std::vector<std::vect... | AsObjects(AsVector(True, As...\n",
      "tracksterMerge_ve... | std::vector<std::vect... | AsObjects(AsVector(True, As...\n",
      "tracksterMerge_se... | std::vector<int32_t>     | AsJagged(AsDtype('>i4'), he...\n",
      "tracksterMerge_time  | std::vector<float>       | AsJagged(AsDtype('>f4'), he...\n",
      "tracksterMerge_ti... | std::vector<float>       | AsJagged(AsDtype('>f4'), he...\n",
      "tracksterMerge_re... | std::vector<float>       | AsJagged(AsDtype('>f4'), he...\n",
      "tracksterMerge_ra... | std::vector<float>       | AsJagged(AsDtype('>f4'), he...\n",
      "tracksterMerge_ra... | std::vector<float>       | AsJagged(AsDtype('>f4'), he...\n",
      "tracksterMerge_ra... | std::vector<float>       | AsJagged(AsDtype('>f4'), he...\n",
      "tracksterMerge_ra... | std::vector<float>       | AsJagged(AsDtype('>f4'), he...\n",
      "tracksterMerge_ba... | vector<ROOT::Math::Di... | AsGroup(<TBranchElement 'tr...\n",
      "tracksterMerge_ba... | double[]                 | AsJagged(AsDtype('>f8'))\n",
      "tracksterMerge_ba... | double[]                 | AsJagged(AsDtype('>f8'))\n",
      "tracksterMerge_ba... | double[]                 | AsJagged(AsDtype('>f8'))\n",
      "tracksterMerge_si... | std::vector<std::vect... | AsObjects(AsVector(True, As...\n",
      "tracksterMerge_si... | std::vector<std::vect... | AsObjects(AsVector(True, As...\n",
      "tracksterMerge_id... | std::vector<std::vect... | AsObjects(AsVector(True, As...\n",
      "tracksterTrk_vert... | std::vector<std::vect... | AsObjects(AsVector(True, As...\n",
      "tracksterTrk_vert... | std::vector<std::vect... | AsObjects(AsVector(True, As...\n",
      "tracksterTrk_seed... | std::vector<int32_t>     | AsJagged(AsDtype('>i4'), he...\n",
      "tracksterTrk_time    | std::vector<float>       | AsJagged(AsDtype('>f4'), he...\n",
      "tracksterTrk_time... | std::vector<float>       | AsJagged(AsDtype('>f4'), he...\n",
      "tracksterTrk_regr... | std::vector<float>       | AsJagged(AsDtype('>f4'), he...\n",
      "tracksterTrk_raw_... | std::vector<float>       | AsJagged(AsDtype('>f4'), he...\n",
      "tracksterTrk_raw_... | std::vector<float>       | AsJagged(AsDtype('>f4'), he...\n",
      "tracksterTrk_raw_pt  | std::vector<float>       | AsJagged(AsDtype('>f4'), he...\n",
      "tracksterTrk_raw_... | std::vector<float>       | AsJagged(AsDtype('>f4'), he...\n",
      "tracksterTrk_bary... | vector<ROOT::Math::Di... | AsGroup(<TBranchElement 'tr...\n",
      "tracksterTrk_bary... | double[]                 | AsJagged(AsDtype('>f8'))\n",
      "tracksterTrk_bary... | double[]                 | AsJagged(AsDtype('>f8'))\n",
      "tracksterTrk_bary... | double[]                 | AsJagged(AsDtype('>f8'))\n",
      "tracksterTrk_sigmas  | std::vector<std::vect... | AsObjects(AsVector(True, As...\n",
      "tracksterTrk_sigm... | std::vector<std::vect... | AsObjects(AsVector(True, As...\n",
      "tracksterTrk_id_p... | std::vector<std::vect... | AsObjects(AsVector(True, As...\n",
      "tracksterTrkEM_ve... | std::vector<std::vect... | AsObjects(AsVector(True, As...\n",
      "tracksterTrkEM_ve... | std::vector<std::vect... | AsObjects(AsVector(True, As...\n",
      "tracksterTrkEM_se... | std::vector<int32_t>     | AsJagged(AsDtype('>i4'), he...\n",
      "tracksterTrkEM_time  | std::vector<float>       | AsJagged(AsDtype('>f4'), he...\n",
      "tracksterTrkEM_ti... | std::vector<float>       | AsJagged(AsDtype('>f4'), he...\n",
      "tracksterTrkEM_re... | std::vector<float>       | AsJagged(AsDtype('>f4'), he...\n",
      "tracksterTrkEM_ra... | std::vector<float>       | AsJagged(AsDtype('>f4'), he...\n",
      "tracksterTrkEM_ra... | std::vector<float>       | AsJagged(AsDtype('>f4'), he...\n",
      "tracksterTrkEM_ra... | std::vector<float>       | AsJagged(AsDtype('>f4'), he...\n",
      "tracksterTrkEM_ra... | std::vector<float>       | AsJagged(AsDtype('>f4'), he...\n",
      "tracksterTrkEM_ba... | vector<ROOT::Math::Di... | AsGroup(<TBranchElement 'tr...\n",
      "tracksterTrkEM_ba... | double[]                 | AsJagged(AsDtype('>f8'))\n",
      "tracksterTrkEM_ba... | double[]                 | AsJagged(AsDtype('>f8'))\n",
      "tracksterTrkEM_ba... | double[]                 | AsJagged(AsDtype('>f8'))\n",
      "tracksterTrkEM_si... | std::vector<std::vect... | AsObjects(AsVector(True, As...\n",
      "tracksterTrkEM_si... | std::vector<std::vect... | AsObjects(AsVector(True, As...\n",
      "tracksterTrkEM_id... | std::vector<std::vect... | AsObjects(AsVector(True, As...\n",
      "cpdgId               | std::vector<int32_t>     | AsJagged(AsDtype('>i4'), he...\n",
      "cp                   | vector<ROOT::Math::Lo... | AsGroup(<TBranchElement 'cp...\n",
      "cp/cp.fCoordinate... | double[]                 | AsJagged(AsDtype('>f8'))\n",
      "cp/cp.fCoordinate... | double[]                 | AsJagged(AsDtype('>f8'))\n",
      "cp/cp.fCoordinate... | double[]                 | AsJagged(AsDtype('>f8'))\n",
      "cp/cp.fCoordinate... | double[]                 | AsJagged(AsDtype('>f8'))\n",
      "cpSC                 | std::vector<std::vect... | AsObjects(AsVector(True, As...\n",
      "cpOrigin             | vector<ROOT::Math::Po... | AsGroup(<TBranchElement 'cp...\n",
      "cpOrigin/cpOrigin... | float[]                  | AsJagged(AsDtype('>f4'))\n",
      "cpOrigin/cpOrigin... | float[]                  | AsJagged(AsDtype('>f4'))\n",
      "cpOrigin/cpOrigin... | float[]                  | AsJagged(AsDtype('>f4'))\n",
      "cpG4T0evt            | std::vector<int32_t>     | AsJagged(AsDtype('>i4'), he...\n",
      "cpG4T0bx             | std::vector<int32_t>     | AsJagged(AsDtype('>i4'), he...\n",
      "cp2lcScore           | std::vector<std::vect... | AsObjects(AsVector(True, As...\n",
      "cp2lcId              | std::vector<std::vect... | AsObjects(AsVector(True, As...\n",
      "cp2lcEnergy          | std::vector<std::vect... | AsObjects(AsVector(True, As...\n",
      "scEnergy             | std::vector<float>       | AsJagged(AsDtype('>f4'), he...\n",
      "scSimEnergy          | std::vector<float>       | AsJagged(AsDtype('>f4'), he...\n",
      "scHits               | std::vector<std::vect... | AsObjects(AsVector(True, As...\n",
      "scHitsEnergyFrac     | std::vector<std::vect... | AsObjects(AsVector(True, As...\n"
     ]
    }
   ],
   "source": [
    "events.show()"
   ]
  },
  {
   "cell_type": "code",
   "execution_count": 6,
   "metadata": {},
   "outputs": [
    {
     "data": {
      "text/plain": [
       "1000 * {\"genParticle.fCoordinates.fX\": var * float64, \"genParticle.fCoordinates.fY\": var * float64, \"genParticle.fCoordinates.fZ\": var * float64, \"genParticle.fCoordinates.fT\": var * float64}"
      ]
     },
     "execution_count": 6,
     "metadata": {},
     "output_type": "execute_result"
    }
   ],
   "source": [
    "array = events[\"genParticle\"].array()\n",
    "array.type"
   ]
  },
  {
   "cell_type": "code",
   "execution_count": 7,
   "metadata": {
    "scrolled": true
   },
   "outputs": [
    {
     "data": {
      "text/plain": [
       "<Array [[21.1], [-0.256], ... [11.1], [-7.21]] type='1000 * var * float64'>"
      ]
     },
     "execution_count": 7,
     "metadata": {},
     "output_type": "execute_result"
    }
   ],
   "source": [
    "array[\"genParticle.fCoordinates.fX\"]"
   ]
  },
  {
   "cell_type": "code",
   "execution_count": 8,
   "metadata": {
    "scrolled": false
   },
   "outputs": [],
   "source": [
    "gX = ak.flatten(array[\"genParticle.fCoordinates.fX\"],axis=None)\n",
    "gY = ak.flatten(array[\"genParticle.fCoordinates.fY\"],axis=None)"
   ]
  },
  {
   "cell_type": "code",
   "execution_count": 9,
   "metadata": {},
   "outputs": [],
   "source": [
    "from matplotlib import pyplot as plt"
   ]
  },
  {
   "cell_type": "code",
   "execution_count": 10,
   "metadata": {
    "scrolled": true
   },
   "outputs": [
    {
     "data": {
      "image/png": "[encoded data removed]",
      "text/plain": [
       "<Figure size 432x288 with 1 Axes>"
      ]
     },
     "metadata": {
      "needs_background": "light"
     },
     "output_type": "display_data"
    }
   ],
   "source": [
    "plt.hist2d(ak.to_list(gX), ak.to_list(gY), bins=100, range=([-200,200],[-200,200]))\n",
    "plt.title(\"gen Pions XY position\")\n",
    "plt.xlabel('X[mm]')\n",
    "plt.ylabel('Y[mm]')\n",
    "plt.show()"
   ]
  },
  {
   "cell_type": "code",
   "execution_count": 40,
   "metadata": {},
   "outputs": [],
   "source": [
    "x1=array[\"genParticle.fCoordinates.fX\"][:,0]\n",
    "x2=array[\"genParticle.fCoordinates.fX\"][:,1]\n",
    "y1=array[\"genParticle.fCoordinates.fY\"][:,0]\n",
    "y2=array[\"genParticle.fCoordinates.fY\"][:,1]"
   ]
  },
  {
   "cell_type": "code",
   "execution_count": 41,
   "metadata": {},
   "outputs": [],
   "source": [
    "dr=np.sqrt((x1-x2)**2+(y1-y1)**2)"
   ]
  },
  {
   "cell_type": "code",
   "execution_count": 42,
   "metadata": {},
   "outputs": [
    {
     "name": "stdout",
     "output_type": "stream",
     "text": [
      "[21.4, 8.38, 10.8, 27.6, 49.4, 46.2, 4.28, ... 5.92, 48.9, 1.46, 39.9, 11.7, 25.7]\n"
     ]
    }
   ],
   "source": [
    "print (dr)"
   ]
  },
  {
   "cell_type": "code",
   "execution_count": 44,
   "metadata": {},
   "outputs": [
    {
     "data": {
      "image/png": "[encoded data removed]",
      "text/plain": [
       "<Figure size 432x288 with 1 Axes>"
      ]
     },
     "metadata": {
      "needs_background": "light"
     },
     "output_type": "display_data"
    }
   ],
   "source": [
    "plt.hist(dr)\n",
    "plt.title(\"genPions delta R\")\n",
    "plt.xlabel('dR[mm]')\n",
    "#plt.ylabel('Y[mm]')\n",
    "plt.show()"
   ]
  },
  {
   "cell_type": "code",
   "execution_count": 26,
   "metadata": {},
   "outputs": [],
   "source": [
    "cp_array=events[\"cpOrigin\"].array()"
   ]
  },
  {
   "cell_type": "code",
   "execution_count": 27,
   "metadata": {},
   "outputs": [],
   "source": [
    "cp_np=ak.count(cp_array['cpOrigin.fCoordinates.fX'],axis=1)"
   ]
  },
  {
   "cell_type": "code",
   "execution_count": 28,
   "metadata": {},
   "outputs": [
    {
     "data": {
      "image/png": "[encoded data removed]",
      "text/plain": [
       "<Figure size 432x288 with 1 Axes>"
      ]
     },
     "metadata": {
      "needs_background": "light"
     },
     "output_type": "display_data"
    }
   ],
   "source": [
    "plt.hist(ak.count(cp_array['cpOrigin.fCoordinates.fX'],axis=1))\n",
    "plt.title(\"caloParticle multiplicity\")\n",
    "#plt.xlabel('dR[mm]')\n",
    "#plt.ylabel('Y[mm]')\n",
    "plt.show()"
   ]
  },
  {
   "cell_type": "code",
   "execution_count": 113,
   "metadata": {},
   "outputs": [],
   "source": [
    "new_cp_array=cp_array[ak.count(cp_array['cpOrigin.fCoordinates.fX'],axis=1)>1]"
   ]
  },
  {
   "cell_type": "code",
   "execution_count": 114,
   "metadata": {},
   "outputs": [],
   "source": [
    "x1=new_cp_array[\"cpOrigin.fCoordinates.fX\"][:,0]\n",
    "x2=new_cp_array[\"cpOrigin.fCoordinates.fX\"][:,1]\n",
    "y1=new_cp_array[\"cpOrigin.fCoordinates.fY\"][:,0]\n",
    "y2=new_cp_array[\"cpOrigin.fCoordinates.fY\"][:,1]\n",
    "dr=np.sqrt((x1-x2)**2+(y1-y1)**2)"
   ]
  },
  {
   "cell_type": "code",
   "execution_count": 115,
   "metadata": {},
   "outputs": [
    {
     "data": {
      "image/png": "[encoded data removed]",
      "text/plain": [
       "<Figure size 432x288 with 1 Axes>"
      ]
     },
     "metadata": {
      "needs_background": "light"
     },
     "output_type": "display_data"
    }
   ],
   "source": [
    "plt.hist(dr)\n",
    "plt.title(\"caloParticles delta R\")\n",
    "plt.xlabel('dR[mm]')\n",
    "#plt.ylabel('Y[mm]')\n",
    "plt.show()"
   ]
  },
  {
   "cell_type": "code",
   "execution_count": 13,
   "metadata": {},
   "outputs": [
    {
     "data": {
      "image/png": "[encoded data removed]",
      "text/plain": [
       "<Figure size 432x288 with 1 Axes>"
      ]
     },
     "metadata": {
      "needs_background": "light"
     },
     "output_type": "display_data"
    }
   ],
   "source": [
    "plt.hist(ak.flatten(cp_array[\"cpOrigin.fCoordinates.fZ\"]),bins=20)\n",
    "plt.title(\"caloParticles Z\")\n",
    "plt.xlabel('Z[mm]')\n",
    "#plt.ylabel('Y[mm]')\n",
    "plt.show()"
   ]
  },
  {
   "cell_type": "code",
   "execution_count": 25,
   "metadata": {},
   "outputs": [
    {
     "data": {
      "image/png": "[encoded data removed]",
      "text/plain": [
       "<Figure size 432x288 with 1 Axes>"
      ]
     },
     "metadata": {
      "needs_background": "light"
     },
     "output_type": "display_data"
    }
   ],
   "source": [
    "plt.hist(ak.flatten(events[\"tracksterMerge_raw_energy\"].array()),bins=40)\n",
    "plt.title(\"tracksterMerge_raw_energy\")\n",
    "plt.xlabel('Energy[GeV]')\n",
    "#plt.ylabel('Y[mm]')\n",
    "plt.show()"
   ]
  },
  {
   "cell_type": "code",
   "execution_count": 19,
   "metadata": {},
   "outputs": [
    {
     "data": {
      "image/png": "[encoded data removed]",
      "text/plain": [
       "<Figure size 432x288 with 1 Axes>"
      ]
     },
     "metadata": {
      "needs_background": "light"
     },
     "output_type": "display_data"
    }
   ],
   "source": [
    "plt.hist(ak.flatten(events[\"tracksterMerge_raw_energy\"].array()),bins=40)\n",
    "plt.title(\"tracksterMerge_raw_energy\")\n",
    "plt.xlabel('Energy[GeV]')\n",
    "#plt.ylabel('Y[mm]')\n",
    "plt.show()"
   ]
  },
  {
   "cell_type": "code",
   "execution_count": 32,
   "metadata": {},
   "outputs": [
    {
     "data": {
      "image/png": "[encoded data removed]",
      "text/plain": [
       "<Figure size 432x288 with 1 Axes>"
      ]
     },
     "metadata": {
      "needs_background": "light"
     },
     "output_type": "display_data"
    }
   ],
   "source": [
    "plt.hist(ak.flatten(events[\"genParticle.fCoordinates.fT\"].array()),bins=10)\n",
    "plt.title(\"gen_energy\")\n",
    "plt.xlabel('Energy[GeV]')\n",
    "plt.xlim(0, 300)\n",
    "#plt.ylabel('Y[mm]')\n",
    "plt.show()"
   ]
  },
  {
   "cell_type": "code",
   "execution_count": 72,
   "metadata": {},
   "outputs": [
    {
     "data": {
      "image/png": "[encoded data removed]",
      "text/plain": [
       "<Figure size 432x288 with 1 Axes>"
      ]
     },
     "metadata": {
      "needs_background": "light"
     },
     "output_type": "display_data"
    }
   ],
   "source": [
    "plt.hist(ak.num(test),bins=10)\n",
    "plt.title(\"cp2lcMulti\")\n",
    "#plt.xlabel('Energy[GeV]')\n",
    "#plt.xlim(0, 300)\n",
    "#plt.ylabel('Y[mm]')\n",
    "plt.show()"
   ]
  },
  {
   "cell_type": "code",
   "execution_count": 58,
   "metadata": {},
   "outputs": [
    {
     "data": {
      "text/plain": [
       "awkward.highlevel.Array"
      ]
     },
     "execution_count": 58,
     "metadata": {},
     "output_type": "execute_result"
    }
   ],
   "source": [
    "test = ak.flatten(events[\"cp2lcEnergy\"].array(),axis=2)\n",
    "type(test)"
   ]
  },
  {
   "cell_type": "code",
   "execution_count": 67,
   "metadata": {},
   "outputs": [
    {
     "data": {
      "text/plain": [
       "<Array [[252], [225], ... [206], [162]] type='1000 * var * int64'>"
      ]
     },
     "execution_count": 67,
     "metadata": {},
     "output_type": "execute_result"
    }
   ],
   "source": [
    "ak.num(events[\"cp2lcEnergy\"].array(),axis=2)"
   ]
  },
  {
   "cell_type": "code",
   "execution_count": 71,
   "metadata": {},
   "outputs": [
    {
     "data": {
      "image/png": "[encoded data removed]",
      "text/plain": [
       "<Figure size 432x288 with 1 Axes>"
      ]
     },
     "metadata": {
      "needs_background": "light"
     },
     "output_type": "display_data"
    }
   ],
   "source": [
    "#new_cp_array=cp_array[ak.count(cp_array['lcEnergy'],axis=1)>1]\n",
    "plt.hist(ak.num(events['lcEnergy'].array()),bins=10)\n",
    "plt.title(\"lcMulti\")\n",
    "#plt.xlabel('Energy[GeV]')\n",
    "plt.xlim(40000, 80000)\n",
    "#plt.ylabel('Y[mm]')\n",
    "plt.show()"
   ]
  },
  {
   "cell_type": "code",
   "execution_count": 76,
   "metadata": {},
   "outputs": [
    {
     "data": {
      "text/plain": [
       "<Array [704, 698, 698, 574, ... 699, 572, 598] type='1000 * int64'>"
      ]
     },
     "execution_count": 76,
     "metadata": {},
     "output_type": "execute_result"
    }
   ],
   "source": [
    "ak.num(events[\"tracksterMerge_vertices\"].array())"
   ]
  },
  {
   "cell_type": "code",
   "execution_count": 73,
   "metadata": {},
   "outputs": [
    {
     "data": {
      "text/plain": [
       "<Array [[[73223, 73222, ... 124000, 123999]]] type='1000 * var * var * int64'>"
      ]
     },
     "execution_count": 73,
     "metadata": {},
     "output_type": "execute_result"
    }
   ],
   "source": [
    "events[\"cp2lcId\"].array()"
   ]
  },
  {
   "cell_type": "code",
   "execution_count": null,
   "metadata": {},
   "outputs": [],
   "source": []
  }
 ],
 "metadata": {
  "kernelspec": {
   "display_name": "Python 3",
   "language": "python",
   "name": "python3"
  },
  "language_info": {
   "codemirror_mode": {
    "name": "ipython",
    "version": 3
   },
   "file_extension": ".py",
   "mimetype": "text/x-python",
   "name": "python",
   "nbconvert_exporter": "python",
   "pygments_lexer": "ipython3",
   "version": "3.8.6"
  }
 },
 "nbformat": 4,
 "nbformat_minor": 2
}
